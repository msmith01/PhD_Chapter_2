{
 "cells": [
  {
   "cell_type": "code",
   "execution_count": 3,
   "metadata": {},
   "outputs": [],
   "source": [
    "# I wanted to create an example graphic to demonstrate the concept of cosine similarity\n",
    "options(scipen=999)\n",
    "shhh <- suppressPackageStartupMessages\n",
    "shhh(library(dplyr))\n",
    "shhh(library(ggplot2))\n",
    "shhh(library(text2vec))\n",
    "shhh(library(Matrix))"
   ]
  },
  {
   "cell_type": "code",
   "execution_count": 4,
   "metadata": {},
   "outputs": [
    {
     "data": {
      "text/html": [
       "<table>\n",
       "<thead><tr><th scope=col>points1</th><th scope=col>points2</th></tr></thead>\n",
       "<tbody>\n",
       "\t<tr><td>0.025 </td><td>0.0700</td></tr>\n",
       "\t<tr><td>0.075 </td><td>0.0725</td></tr>\n",
       "\t<tr><td>0.070 </td><td>0.0200</td></tr>\n",
       "</tbody>\n",
       "</table>\n"
      ],
      "text/latex": [
       "\\begin{tabular}{r|ll}\n",
       " points1 & points2\\\\\n",
       "\\hline\n",
       "\t 0.025  & 0.0700\\\\\n",
       "\t 0.075  & 0.0725\\\\\n",
       "\t 0.070  & 0.0200\\\\\n",
       "\\end{tabular}\n"
      ],
      "text/markdown": [
       "\n",
       "| points1 | points2 |\n",
       "|---|---|\n",
       "| 0.025  | 0.0700 |\n",
       "| 0.075  | 0.0725 |\n",
       "| 0.070  | 0.0200 |\n",
       "\n"
      ],
      "text/plain": [
       "  points1 points2\n",
       "1 0.025   0.0700 \n",
       "2 0.075   0.0725 \n",
       "3 0.070   0.0200 "
      ]
     },
     "metadata": {},
     "output_type": "display_data"
    }
   ],
   "source": [
    "# Plot the following points\n",
    "points1 <- c(0.025, 0.075, 0.070)\n",
    "points2 <- c(0.07, 0.0725, 0.020)\n",
    "\n",
    "df <- data.frame(points1, points2)\n",
    "\n",
    "df"
   ]
  },
  {
   "cell_type": "code",
   "execution_count": 7,
   "metadata": {},
   "outputs": [],
   "source": [
    "# Create the cosine arc\n",
    "arc_fun <- function(pt1, pt2, n.angle = 100, rad = .03) {\n",
    "  a1 = atan2(pt1[2], pt1[1])\n",
    "  a2 = atan2(pt2[2], pt2[1])\n",
    "  n.angle = 100\n",
    "  angles <- seq(a1,a2,len=n.angle)\n",
    "  xc = 0\n",
    "  yc = 0\n",
    "  xs <- xc+rad*cos(angles)\n",
    "  ys <- yc+rad*sin(angles)\n",
    "  return(data.frame(x = xs, y = ys))\n",
    "}\n",
    "\n",
    "arc_df <- arc_fun(as.numeric(df[1,]), as.numeric(df[3,]))\n",
    "\n",
    "arc_df2 <- arc_fun(as.numeric(df[2,]), as.numeric(df[3,]), rad = .02)\n",
    "\n",
    "arc_df3 <- arc_fun(as.numeric(df[1,]), as.numeric(df[2,]), rad = .05)"
   ]
  },
  {
   "cell_type": "code",
   "execution_count": 9,
   "metadata": {},
   "outputs": [
    {
     "name": "stdout",
     "output_type": "stream",
     "text": [
      "WARN [2019-09-12 23:47:27] Sparsity will be lost - worth to calculate similarity instead of distance.\n"
     ]
    },
    {
     "data": {
      "text/plain": [
       "3 x 3 Matrix of class \"dgeMatrix\"\n",
       "                          [,1]      [,2]      [,3]\n",
       "[1,] -0.0000000000000002220446 0.1036466 0.4178881\n",
       "[2,]  0.1036466020302929669228 0.0000000 0.1177382\n",
       "[3,]  0.4178880996814751114243 0.1177382 0.0000000"
      ]
     },
     "metadata": {},
     "output_type": "display_data"
    }
   ],
   "source": [
    "# Compute the cosine distance between each point\n",
    "m <- cbind(points1, points2) %>%\n",
    "  Matrix(sparse = TRUE)\n",
    "\n",
    "dist <- dist2(m, method = \"cosine\")\n",
    "dist"
   ]
  },
  {
   "cell_type": "code",
   "execution_count": 16,
   "metadata": {},
   "outputs": [
    {
     "data": {
      "image/png": "[encoded data removed]",
      "text/plain": [
       "plot without title"
      ]
     },
     "metadata": {},
     "output_type": "display_data"
    }
   ],
   "source": [
    "# Plot the results\n",
    "\n",
    "df %>%\n",
    "  ggplot(aes(x = points1, y = points2)) + \n",
    "  geom_point(shape = 21, colour = \"black\", fill = \"grey\", size = 8, stroke = 1) +\n",
    "  scale_x_continuous(limits = c(0.000, 0.08)) +\n",
    "  scale_y_continuous(limits = c(0.000, 0.08)) +\n",
    "  geom_segment(aes(xend=points1, yend = points2), x = 0, y = 0, color = \"grey\") +\n",
    "  geom_line(data = arc_df, aes(x, y), color = 'red') +\n",
    "  geom_line(data = arc_df2, aes(x, y), color = 'blue') +\n",
    "  geom_line(data = arc_df3, aes(x, y), color = 'green') +\n",
    "  ggtitle(\"Cosine distance between points in a 2-D space\") +\n",
    "  theme_bw() +\n",
    "  theme(plot.title = element_text(size = 12, face = \"bold\"),\n",
    "    #axis.text.x = element_blank(), axis.text.y = element_blank(),\n",
    "    axis.title.x = element_blank(), axis.title.y = element_blank(),\n",
    "    panel.border = element_blank(), panel.grid.major = element_blank(),\n",
    "    panel.grid.minor = element_blank(), axis.line = element_line(colour = \"black\")) +\n",
    "  geom_text(aes(label = c(\"Doc A\", \"Doc B\", \"Doc C\"), hjust = -0.25, vjust = 0), size = 5) +\n",
    "  annotate(\"text\", x = 0.022, y = 0.035, label = paste0(\"cos = \", round(dist[2, 3], 2)), size = 3) +\n",
    "  annotate(\"text\", x = 0.0125, y = 0.019, label = paste(\"cos = \", round(dist[3, 1], 2)), size = 3) +\n",
    "  annotate(\"text\", x = 0.0125, y = 0.007, label = paste(\"cos = \", round(dist[1, 2], 2)), size = 3)"
   ]
  }
 ],
 "metadata": {
  "kernelspec": {
   "display_name": "R",
   "language": "R",
   "name": "ir"
  },
  "language_info": {
   "codemirror_mode": "r",
   "file_extension": ".r",
   "mimetype": "text/x-r-source",
   "name": "R",
   "pygments_lexer": "r",
   "version": "3.6.1"
  }
 },
 "nbformat": 4,
 "nbformat_minor": 2
}
